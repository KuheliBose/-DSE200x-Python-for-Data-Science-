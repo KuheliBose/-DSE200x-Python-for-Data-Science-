{
 "cells": [
  {
   "cell_type": "code",
   "execution_count": 2,
   "metadata": {},
   "outputs": [],
   "source": [
    "import matplotlib\n",
    "import matplotlib.pyplot as plt\n",
    "import pandas as pd\n",
    "import numpy as np"
   ]
  },
  {
   "cell_type": "code",
   "execution_count": 3,
   "metadata": {},
   "outputs": [
    {
     "name": "stdout",
     "output_type": "stream",
     "text": [
      "(27278, 3)\n",
      "   movieId                               title  \\\n",
      "0        1                    Toy Story (1995)   \n",
      "1        2                      Jumanji (1995)   \n",
      "2        3             Grumpier Old Men (1995)   \n",
      "3        4            Waiting to Exhale (1995)   \n",
      "4        5  Father of the Bride Part II (1995)   \n",
      "5        6                         Heat (1995)   \n",
      "\n",
      "                                        genres  \n",
      "0  Adventure|Animation|Children|Comedy|Fantasy  \n",
      "1                   Adventure|Children|Fantasy  \n",
      "2                               Comedy|Romance  \n",
      "3                         Comedy|Drama|Romance  \n",
      "4                                       Comedy  \n",
      "5                        Action|Crime|Thriller  \n"
     ]
    }
   ],
   "source": [
    "movie = pd.read_csv('/home/kuheli/Documents/Study/PythonForDataScience/Datasets/Week-4-Pandas/movielens/movies.csv')\n",
    "print(movie.shape)\n",
    "print(movie.head(6))"
   ]
  },
  {
   "cell_type": "code",
   "execution_count": 4,
   "metadata": {},
   "outputs": [
    {
     "name": "stdout",
     "output_type": "stream",
     "text": [
      "   movieId                               title  \\\n",
      "0        1                    Toy Story (1995)   \n",
      "1        2                      Jumanji (1995)   \n",
      "2        3             Grumpier Old Men (1995)   \n",
      "3        4            Waiting to Exhale (1995)   \n",
      "4        5  Father of the Bride Part II (1995)   \n",
      "\n",
      "                                        genres  year  \n",
      "0  Adventure|Animation|Children|Comedy|Fantasy  1995  \n",
      "1                   Adventure|Children|Fantasy  1995  \n",
      "2                               Comedy|Romance  1995  \n",
      "3                         Comedy|Drama|Romance  1995  \n",
      "4                                       Comedy  1995  \n"
     ]
    }
   ],
   "source": [
    "movie['year'] = movie['title'].str.extract('.*\\((.*)\\).*', expand = True)\n",
    "print(movie.head(5))"
   ]
  },
  {
   "cell_type": "code",
   "execution_count": 5,
   "metadata": {},
   "outputs": [
    {
     "name": "stdout",
     "output_type": "stream",
     "text": [
      "(20000263, 4)\n",
      "(20000263, 3)\n",
      "   userId  movieId  rating\n",
      "0       1        2     3.5\n",
      "1       1       29     3.5\n",
      "2       1       32     3.5\n",
      "3       1       47     3.5\n",
      "4       1       50     3.5\n"
     ]
    }
   ],
   "source": [
    "ratings =  pd.read_csv('/home/kuheli/Documents/Study/PythonForDataScience/Datasets/Week-4-Pandas/movielens/ratings.csv')\n",
    "print (ratings.shape)\n",
    "del ratings['timestamp']\n",
    "print (ratings.shape)\n",
    "print(ratings.head(5))"
   ]
  },
  {
   "cell_type": "code",
   "execution_count": 6,
   "metadata": {},
   "outputs": [
    {
     "name": "stdout",
     "output_type": "stream",
     "text": [
      "   movieId             title                                       genres  \\\n",
      "0        1  Toy Story (1995)  Adventure|Animation|Children|Comedy|Fantasy   \n",
      "1        1  Toy Story (1995)  Adventure|Animation|Children|Comedy|Fantasy   \n",
      "2        1  Toy Story (1995)  Adventure|Animation|Children|Comedy|Fantasy   \n",
      "3        1  Toy Story (1995)  Adventure|Animation|Children|Comedy|Fantasy   \n",
      "4        1  Toy Story (1995)  Adventure|Animation|Children|Comedy|Fantasy   \n",
      "\n",
      "   year  userId  rating  \n",
      "0  1995       3     4.0  \n",
      "1  1995       6     5.0  \n",
      "2  1995       8     4.0  \n",
      "3  1995      10     4.0  \n",
      "4  1995      11     4.5  \n"
     ]
    },
    {
     "data": {
      "text/plain": [
       "(20000263, 6)"
      ]
     },
     "execution_count": 6,
     "metadata": {},
     "output_type": "execute_result"
    }
   ],
   "source": [
    "merged = movie.merge(ratings,on = 'movieId', how ='inner')\n",
    "print(merged.head(5))\n",
    "merged.title.duplicated().sum()\n",
    "merged.shape"
   ]
  },
  {
   "cell_type": "code",
   "execution_count": 7,
   "metadata": {},
   "outputs": [
    {
     "name": "stdout",
     "output_type": "stream",
     "text": [
      "          movieId                                 title                genres  \\\n",
      "19982376   113190                    Slaying the Badger           Documentary   \n",
      "19987702   115133            Tatort: Im Schmerz geboren                 Crime   \n",
      "19990159   115685   National Theatre Live: Frankenstein         Drama|Fantasy   \n",
      "19998235   125571  The Court-Martial of Jackie Robinson    (no genres listed)   \n",
      "19998245   125632                         In Our Garden    (no genres listed)   \n",
      "19998419   125958    Stephen Fry In America - New World    (no genres listed)   \n",
      "19998661   126438        Two: The Story of Roman & Nyro     Documentary|Drama   \n",
      "19998791   126929                         Li'l Quinquin    (no genres listed)   \n",
      "19998835   127005       A Year Along the Abandoned Road    (no genres listed)   \n",
      "19999353   128612                            Body/Cialo  Comedy|Drama|Mystery   \n",
      "19999421   128734                         Polskie gówno        Comedy|Musical   \n",
      "19999771   129651      The Third Reich: The Rise & Fall    (no genres listed)   \n",
      "19999786   129705                            My Own Man    (no genres listed)   \n",
      "19999864   129887                           Moving Alan    (no genres listed)   \n",
      "20000022   130454   Michael Laudrup - en Fodboldspiller    (no genres listed)   \n",
      "\n",
      "          year  userId  rating  \n",
      "19982376   NaN   82202     3.5  \n",
      "19987702   NaN   66455     4.0  \n",
      "19990159   NaN   11288     4.0  \n",
      "19998235   NaN   91193     3.0  \n",
      "19998245   NaN   87502     4.5  \n",
      "19998419   NaN   74142     3.0  \n",
      "19998661   NaN   59414     3.0  \n",
      "19998791   NaN   28916     4.5  \n",
      "19998835   NaN   28916     4.0  \n",
      "19999353   NaN   78564     3.5  \n",
      "19999421   NaN  120937     4.5  \n",
      "19999771   NaN   73026     3.0  \n",
      "19999786   NaN  120524     1.5  \n",
      "19999864   NaN   34168     4.0  \n",
      "20000022   NaN   55704     4.0  \n"
     ]
    }
   ],
   "source": [
    "movieChart = merged.drop_duplicates(subset = ['movieId', 'title', 'genres', 'year']).sort_values('year')\n",
    "movieChart['year'] = pd.to_numeric(movieChart['year'], errors='coerce') \n",
    "print(movieChart.tail(15))"
   ]
  },
  {
   "cell_type": "code",
   "execution_count": 8,
   "metadata": {},
   "outputs": [
    {
     "data": {
      "text/plain": [
       "(26744, 6)"
      ]
     },
     "execution_count": 8,
     "metadata": {},
     "output_type": "execute_result"
    }
   ],
   "source": [
    "movieChart.isnull().any()\n",
    "movieChart.shape"
   ]
  },
  {
   "cell_type": "code",
   "execution_count": 9,
   "metadata": {},
   "outputs": [
    {
     "data": {
      "text/plain": [
       "(26721, 6)"
      ]
     },
     "execution_count": 9,
     "metadata": {},
     "output_type": "execute_result"
    }
   ],
   "source": [
    "movieChart = movieChart.dropna()\n",
    "movieChart.shape"
   ]
  },
  {
   "cell_type": "code",
   "execution_count": 10,
   "metadata": {},
   "outputs": [
    {
     "name": "stdout",
     "output_type": "stream",
     "text": [
      "          movieId                                              title  \\\n",
      "19998662   126482                               Strange Magic (2015)   \n",
      "19999803   129737                         Unfinished Business (2015)   \n",
      "19998620   126420                              American Heist (2015)   \n",
      "20000101   130578                                  The Gunman (2015)   \n",
      "19998227   125543                             Against The Sun (2015)   \n",
      "20000092   130520                                        Home (2015)   \n",
      "19993681   117466                     In the Heart of the Sea (2015)   \n",
      "19999837   129822                               Bikes vs Cars (2015)   \n",
      "19999841   129826  LEGO DC Comics Super Heroes: Justice League vs...   \n",
      "19999447   128842         Dragonheart 3: The Sorcerer's Curse (2015)   \n",
      "20000060   130496                                    Big Game (2015)   \n",
      "19998258   125661                                Paper Planes (2015)   \n",
      "20000033   130490                                   Insurgent (2015)   \n",
      "20000123   130682                                        Muck (2015)   \n",
      "20000138   130840                                      Spring (2015)   \n",
      "\n",
      "                                            genres    year  userId  rating  \n",
      "19998662                Animation|Children|Fantasy  2015.0   70226     2.0  \n",
      "19999803                                    Comedy  2015.0   95960     3.0  \n",
      "19998620                                    Action  2015.0   33610     2.0  \n",
      "20000101                           Action|Thriller  2015.0   70883     2.0  \n",
      "19998227                                 Adventure  2015.0   55817     1.0  \n",
      "20000092  Animation|Children|Comedy|Fantasy|Sci-Fi  2015.0   34328     2.0  \n",
      "19993681                    Action|Adventure|Drama  2015.0  110772     5.0  \n",
      "19999837                               Documentary  2015.0    7748     4.0  \n",
      "19999841       Action|Adventure|Animation|Children  2015.0  117144     2.5  \n",
      "19999447                  Action|Adventure|Fantasy  2015.0    1721     3.0  \n",
      "20000060                          Action|Adventure  2015.0    7434     1.5  \n",
      "19998258                                  Children  2015.0   31181     4.0  \n",
      "20000033                     Action|Romance|Sci-Fi  2015.0    2423     1.0  \n",
      "20000123                                    Horror  2015.0  112319     0.5  \n",
      "20000138                     Horror|Romance|Sci-Fi  2015.0   26004     3.5  \n"
     ]
    }
   ],
   "source": [
    "print(movieChart.tail(15))"
   ]
  },
  {
   "cell_type": "code",
   "execution_count": 11,
   "metadata": {},
   "outputs": [
    {
     "name": "stdout",
     "output_type": "stream",
     "text": [
      "from: 1891.0 to 2015.0\n"
     ]
    }
   ],
   "source": [
    "print('from:', movieChart['year'].min(), 'to', movieChart['year'].max())"
   ]
  },
  {
   "cell_type": "code",
   "execution_count": 12,
   "metadata": {},
   "outputs": [
    {
     "name": "stdout",
     "output_type": "stream",
     "text": [
      "<bound method DataFrame.count of           movieId                                              title  genres  \\\n",
      "19982145   113048               Tables Turned on the Gardener (1895)  Comedy   \n",
      "19997329   120803                            Those Awful Hats (1909)  Comedy   \n",
      "19897336   103040                          His New Profession (1914)  Comedy   \n",
      "19920931   105081                          Mabel at the Wheel (1914)  Comedy   \n",
      "19488654    76758                  Tillie's Punctured Romance (1914)  Comedy   \n",
      "10084867     2230                       Always Tell Your Wife (1914)  Comedy   \n",
      "19990545   116094                        Mabel's Married Life (1914)  Comedy   \n",
      "19990543   116092                                  By the Sea (1915)  Comedy   \n",
      "19898460   103044                                  Shanghaied (1915)  Comedy   \n",
      "19920891   105051                         Jitney Elopement, A (1915)  Comedy   \n",
      "19895733   102901                                 In the Park (1915)  Comedy   \n",
      "19920889   105049                               Champion, The (1915)  Comedy   \n",
      "19990541   116090                         A Night in the Show (1915)  Comedy   \n",
      "19790271    93333                                   Bank, The (1915)  Comedy   \n",
      "19790276    93336                                Night Out, A (1915)  Comedy   \n",
      "19790256    93328                                    One A.M. (1916)  Comedy   \n",
      "19790960    93406                                      Police (1916)  Comedy   \n",
      "19894733   102747                                   Rink, The (1916)  Comedy   \n",
      "19998475   126040             The Mystery of the Leaping Fish (1916)  Comedy   \n",
      "19915564   104733                                Fireman, The (1916)  Comedy   \n",
      "19884057   101734                            Rough House, The (1917)  Comedy   \n",
      "19790263    93330                                   Cure, The (1917)  Comedy   \n",
      "19790965    93418                                 Easy Street (1917)  Comedy   \n",
      "17351637     8511                              Immigrant, The (1917)  Comedy   \n",
      "19982097   112955                                Coney Island (1917)  Comedy   \n",
      "17949602    33401                             Adventurer, The (1917)  Comedy   \n",
      "12954511     3309                               Dog's Life, A (1918)  Comedy   \n",
      "19169648    64245                               Bell Boy, The (1918)  Comedy   \n",
      "19982288   113139           Day's Pleasure, A (Ford Story, A) (1919)  Comedy   \n",
      "19739833    89977                   Don't Change Your Husband (1919)  Comedy   \n",
      "...           ...                                                ...     ...   \n",
      "19968238   111617                                     Blended (2014)  Comedy   \n",
      "19971841   112112                             Back in the Day (2014)  Comedy   \n",
      "19975162   112297                        Tillbaka till Bromma (2014)  Comedy   \n",
      "19998539   126128             Belle comme la femme d'un autre (2014)  Comedy   \n",
      "19959272   109971                       Ocho apellidos vascos (2014)  Comedy   \n",
      "19959364   110063                   Le crocodile du Botswanga (2014)  Comedy   \n",
      "19955231   109461                             Supercondriaque (2014)  Comedy   \n",
      "19998720   126599                            The Little Death (2014)  Comedy   \n",
      "19998232   125563                                Tasting Menu (2014)  Comedy   \n",
      "19983926   113696                                Are You Here (2014)  Comedy   \n",
      "19984007   113707                                   Kummeli V (2014)  Comedy   \n",
      "19998097   124691                               Hollidaysburg (2014)  Comedy   \n",
      "19983456   113532                         Inbetweeners 2, The (2014)  Comedy   \n",
      "19998386   125918                                    Expelled (2014)  Comedy   \n",
      "19975871   112497                                       Tammy (2014)  Comedy   \n",
      "19975839   112481                   Mrs. Brown's Boys D'Movie (2014)  Comedy   \n",
      "19979105   112767                                   Premature (2014)  Comedy   \n",
      "19979121   112788                                    Sex Tape (2014)  Comedy   \n",
      "19999128   127610                             Average Italian (2015)  Comedy   \n",
      "19998920   127098        Louis C.K.: Live at The Comedy Store (2015)  Comedy   \n",
      "19998997   127206                      People, Places, Things (2015)  Comedy   \n",
      "19998986   127194                                 The D Train (2015)  Comedy   \n",
      "19998961   127112                                 Don Verdean (2015)  Comedy   \n",
      "19999285   128520                          The Wedding Ringer (2015)  Comedy   \n",
      "19999399   128690                                  Adult Camp (2015)  Comedy   \n",
      "19999923   130069                                   Road Hard (2015)  Comedy   \n",
      "20000177   131017  Aziz Ansari: Live at Madison Square Garden (2015)  Comedy   \n",
      "20000171   131013                                    Get Hard (2015)  Comedy   \n",
      "19998670   126548                                    The DUFF (2015)  Comedy   \n",
      "19999803   129737                         Unfinished Business (2015)  Comedy   \n",
      "\n",
      "            year  userId  rating  \n",
      "19982145  1895.0   28688     4.0  \n",
      "19997329  1909.0    3858     1.5  \n",
      "19897336  1914.0   86592     2.5  \n",
      "19920931  1914.0  116361     2.5  \n",
      "19488654  1914.0   14705     3.0  \n",
      "10084867  1914.0     741     0.5  \n",
      "19990545  1914.0  117718     2.5  \n",
      "19990543  1915.0   29310     4.5  \n",
      "19898460  1915.0  116361     3.0  \n",
      "19920891  1915.0  116361     2.5  \n",
      "19895733  1915.0  116361     2.5  \n",
      "19920889  1915.0   86592     3.5  \n",
      "19990541  1915.0   28688     4.0  \n",
      "19790271  1915.0   10502     3.0  \n",
      "19790276  1915.0   10502     3.5  \n",
      "19790256  1916.0    5800     2.0  \n",
      "19790960  1916.0  114406     1.5  \n",
      "19894733  1916.0    5138     3.5  \n",
      "19998475  1916.0  123759     0.5  \n",
      "19915564  1916.0   28688     4.0  \n",
      "19884057  1917.0   28916     2.0  \n",
      "19790263  1917.0   10502     3.0  \n",
      "19790965  1917.0   15617     3.5  \n",
      "17351637  1917.0     631     3.5  \n",
      "19982097  1917.0   28916     2.5  \n",
      "17949602  1917.0   28688     4.0  \n",
      "12954511  1918.0     663     5.0  \n",
      "19169648  1918.0   14705     4.0  \n",
      "19982288  1919.0   26867     3.0  \n",
      "19739833  1919.0   26867     3.0  \n",
      "...          ...     ...     ...  \n",
      "19968238  2014.0     425     2.5  \n",
      "19971841  2014.0   23599     2.0  \n",
      "19975162  2014.0  119757     3.5  \n",
      "19998539  2014.0   93414     1.0  \n",
      "19959272  2014.0   26609     4.5  \n",
      "19959364  2014.0   48816     2.5  \n",
      "19955231  2014.0    7545     3.0  \n",
      "19998720  2014.0   19711     4.0  \n",
      "19998232  2014.0   56879     3.0  \n",
      "19983926  2014.0   15701     3.5  \n",
      "19984007  2014.0    7036     1.0  \n",
      "19998097  2014.0  123872     4.0  \n",
      "19983456  2014.0     979     3.5  \n",
      "19998386  2014.0   36725     4.0  \n",
      "19975871  2014.0   13565     2.0  \n",
      "19975839  2014.0   30204     2.5  \n",
      "19979105  2014.0   35208     3.0  \n",
      "19979121  2014.0    3029     2.0  \n",
      "19999128  2015.0  121917     4.0  \n",
      "19998920  2015.0    6632     2.5  \n",
      "19998997  2015.0  107288     4.5  \n",
      "19998986  2015.0   62925     3.0  \n",
      "19998961  2015.0  107288     3.5  \n",
      "19999285  2015.0    5840     4.0  \n",
      "19999399  2015.0   65409     3.0  \n",
      "19999923  2015.0   10303     3.0  \n",
      "20000177  2015.0   59477     2.5  \n",
      "20000171  2015.0   34328     2.5  \n",
      "19998670  2015.0    6148     0.5  \n",
      "19999803  2015.0   95960     3.0  \n",
      "\n",
      "[2248 rows x 6 columns]>\n",
      "2.9134786476868326\n"
     ]
    }
   ],
   "source": [
    "comedy = movieChart[(movieChart['genres'] == 'Comedy')]\n",
    "print(comedy.count)\n",
    "avg_comedy = comedy['rating'].mean()\n",
    "print(avg_comedy)"
   ]
  },
  {
   "cell_type": "code",
   "execution_count": 13,
   "metadata": {},
   "outputs": [
    {
     "name": "stdout",
     "output_type": "stream",
     "text": [
      "(77, 6)\n",
      "2.909090909090909\n"
     ]
    }
   ],
   "source": [
    "romance = movieChart[(movieChart['genres'] == 'Romance')]\n",
    "print(romance.shape)\n",
    "avg_romance = romance['rating'].mean()\n",
    "print(avg_romance)"
   ]
  },
  {
   "cell_type": "code",
   "execution_count": 14,
   "metadata": {},
   "outputs": [
    {
     "name": "stdout",
     "output_type": "stream",
     "text": [
      "(27, 6)\n",
      "2.925925925925926\n"
     ]
    }
   ],
   "source": [
    "fantasy = movieChart[(movieChart['genres'] == 'Fantasy')]\n",
    "print(fantasy.shape)\n",
    "avg_fantasy = fantasy['rating'].mean()\n",
    "print(avg_fantasy)"
   ]
  },
  {
   "cell_type": "code",
   "execution_count": 15,
   "metadata": {},
   "outputs": [
    {
     "name": "stdout",
     "output_type": "stream",
     "text": [
      "(1876, 6)\n",
      "3.463486140724947\n"
     ]
    }
   ],
   "source": [
    "documentary = movieChart[(movieChart['genres'] == 'Documentary')]\n",
    "print(documentary.shape)\n",
    "avg_documentary = documentary['rating'].mean()\n",
    "print(avg_documentary)"
   ]
  },
  {
   "cell_type": "code",
   "execution_count": 16,
   "metadata": {},
   "outputs": [
    {
     "name": "stdout",
     "output_type": "stream",
     "text": [
      "(176, 6)\n",
      "2.4744318181818183\n"
     ]
    }
   ],
   "source": [
    "action = movieChart[(movieChart['genres'] == 'Action')]\n",
    "print(action.shape)\n",
    "avg_action = action['rating'].mean()\n",
    "print(avg_action)"
   ]
  },
  {
   "cell_type": "code",
   "execution_count": 17,
   "metadata": {},
   "outputs": [
    {
     "name": "stdout",
     "output_type": "stream",
     "text": [
      "(116, 6)\n",
      "2.689655172413793\n"
     ]
    }
   ],
   "source": [
    "scifi = movieChart[(movieChart['genres'] == 'Sci-Fi')]\n",
    "print(scifi.shape)\n",
    "avg_scifi = scifi['rating'].mean()\n",
    "print(avg_scifi)"
   ]
  },
  {
   "cell_type": "code",
   "execution_count": 18,
   "metadata": {},
   "outputs": [
    {
     "data": {
      "image/png": "[encoded data removed]",
      "text/plain": [
       "<matplotlib.figure.Figure at 0x7f4ac97e1eb8>"
      ]
     },
     "metadata": {},
     "output_type": "display_data"
    }
   ],
   "source": [
    "movie_df = pd.DataFrame({\"Genres\": ['Comedy', 'Romance', 'Fantasy','Documentary', 'Action', 'Sci-Fi'], \"Avg_Rating\": [2.913, 2.909, 2.925, 3.463, 2.474, 2.689]})\n",
    "movie_df = movie_df[[\"Genres\",\"Avg_Rating\"]]\n",
    "movie_df.set_index([\"Genres\"],inplace=True)\n",
    "movie_df.plot(kind='bar',alpha=0.75, rot=0,figsize=(15,10))\n",
    "plt.title('Average Rating Score for each genres over 120 years')\n",
    "plt.xlabel(\"Genres\")\n",
    "plt.ylabel(\"Average Rating\")\n",
    "plt.show()"
   ]
  }
 ],
 "metadata": {
  "kernelspec": {
   "display_name": "Python 3",
   "language": "python",
   "name": "python3"
  },
  "language_info": {
   "codemirror_mode": {
    "name": "ipython",
    "version": 3
   },
   "file_extension": ".py",
   "mimetype": "text/x-python",
   "name": "python",
   "nbconvert_exporter": "python",
   "pygments_lexer": "ipython3",
   "version": "3.6.2"
  }
 },
 "nbformat": 4,
 "nbformat_minor": 2
}
